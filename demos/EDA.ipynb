{
  "cells": [
    {
      "cell_type": "markdown",
      "metadata": {},
      "source": [
        "# Introduction: A Use Case for Exploratory Data Analysis (EDA)\n",
        "\n",
        "## Problem Statement\n",
        "An insurance company is looking to refine its pricing strategy for auto, home, and health policies. They have a significant amount of customer and policy data, but the data's underlying patterns and relationships are not well understood. The company's main goal is to identify key drivers of policy premiums and claims to improve risk assessment and profitability. They suspect that factors like a customer's age, credit score, and policy type have a strong influence on both the premium they pay and their likelihood of making a claim.\n",
        "\n",
        "## Objective\n",
        "Before building a predictive model to forecast future claims or optimize pricing, we need to perform Exploratory Data Analysis (EDA). Our goal is to use this demo to:\n",
        "\n",
        "- **Understand the distribution** of our key variables (e.g., customer age, income, and premiums).\n",
        "\n",
        "- **Identify correlations** between potential risk factors (e.g., age, credit score) and our target variables (e.g., premium, claims).\n",
        "\n",
        "- **Detect potential anomalies** in the data that could represent high-risk customers or fraudulent activity.\n",
        "\n",
        "- **Formulate hypotheses** about customer behavior and risk that can guide the development of a more sophisticated predictive model.\n",
        "\n",
        "By the end of this analysis, we will have a clearer picture of the data, which will serve as a critical foundation for making data-driven decisions about our pricing and risk management strategies."
      ]
    }
  ],
  "metadata": {
    "kernelspec": {
      "display_name": "youknowx311",
      "language": "python",
      "name": "python3"
    },
    "language_info": {
      "name": "python",
      "version": "3.11.9"
    }
  },
  "nbformat": 4,
  "nbformat_minor": 2
}
